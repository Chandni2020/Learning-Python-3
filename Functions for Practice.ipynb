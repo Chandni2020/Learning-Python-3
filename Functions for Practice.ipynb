{
 "cells": [
  {
   "cell_type": "code",
   "execution_count": 1,
   "metadata": {},
   "outputs": [],
   "source": [
    "#Write a function to find sum of squares of first 10 natural numbers"
   ]
  },
  {
   "cell_type": "code",
   "execution_count": 2,
   "metadata": {},
   "outputs": [
    {
     "name": "stdout",
     "output_type": "stream",
     "text": [
      "385\n"
     ]
    }
   ],
   "source": [
    "def sum_of_squares():\n",
    "    sum = 0\n",
    "    for i in range(1, 11):\n",
    "        sum = sum + (i)**2\n",
    "    print (f'{sum}')\n",
    "sum_of_squares()"
   ]
  },
  {
   "cell_type": "code",
   "execution_count": 3,
   "metadata": {},
   "outputs": [],
   "source": [
    "#Write a function to print if a number is even or odd"
   ]
  },
  {
   "cell_type": "code",
   "execution_count": 4,
   "metadata": {},
   "outputs": [
    {
     "name": "stdout",
     "output_type": "stream",
     "text": [
      "even\n"
     ]
    }
   ],
   "source": [
    "def function(num):\n",
    "    if num % 2 == 0:\n",
    "        print('even')\n",
    "    else:\n",
    "        print('odd')\n",
    "function(24)"
   ]
  },
  {
   "cell_type": "code",
   "execution_count": 5,
   "metadata": {},
   "outputs": [],
   "source": [
    "#Write fizz_buzz function. It should run for first 100 natural numbers. Print Fizz if number is divisible by 3, \n",
    "#print Buzz if number is divisible by 5 and print FizzBuzz\n",
    "#if number is divisible by both 3 and 5"
   ]
  },
  {
   "cell_type": "code",
   "execution_count": 6,
   "metadata": {},
   "outputs": [
    {
     "name": "stdout",
     "output_type": "stream",
     "text": [
      "3--Fizz\n",
      "5--Buzz\n",
      "6--Fizz\n",
      "9--Fizz\n",
      "10--Buzz\n",
      "12--Fizz\n",
      "15--FizzBuzz\n",
      "18--Fizz\n",
      "20--Buzz\n",
      "21--Fizz\n",
      "24--Fizz\n",
      "25--Buzz\n",
      "27--Fizz\n",
      "30--FizzBuzz\n",
      "33--Fizz\n",
      "35--Buzz\n",
      "36--Fizz\n",
      "39--Fizz\n",
      "40--Buzz\n",
      "42--Fizz\n",
      "45--FizzBuzz\n",
      "48--Fizz\n",
      "50--Buzz\n",
      "51--Fizz\n",
      "54--Fizz\n",
      "55--Buzz\n",
      "57--Fizz\n",
      "60--FizzBuzz\n",
      "63--Fizz\n",
      "65--Buzz\n",
      "66--Fizz\n",
      "69--Fizz\n",
      "70--Buzz\n",
      "72--Fizz\n",
      "75--FizzBuzz\n",
      "78--Fizz\n",
      "80--Buzz\n",
      "81--Fizz\n",
      "84--Fizz\n",
      "85--Buzz\n",
      "87--Fizz\n",
      "90--FizzBuzz\n",
      "93--Fizz\n",
      "95--Buzz\n",
      "96--Fizz\n",
      "99--Fizz\n",
      "100--Buzz\n"
     ]
    }
   ],
   "source": [
    "def fizz_buzz():\n",
    "    for i in range (1,101):\n",
    "        if i % 3 == 0 and i % 5 == 0:\n",
    "            print(f'{i}--FizzBuzz')\n",
    "        elif i % 3 == 0:\n",
    "            print(f'{i}--Fizz')\n",
    "        elif i % 5 == 0:\n",
    "            print(f'{i}--Buzz')\n",
    "fizz_buzz()"
   ]
  },
  {
   "cell_type": "code",
   "execution_count": 7,
   "metadata": {},
   "outputs": [],
   "source": [
    "#Write a function that finds if a substring is present in a string"
   ]
  },
  {
   "cell_type": "code",
   "execution_count": 8,
   "metadata": {},
   "outputs": [
    {
     "data": {
      "text/plain": [
       "True"
      ]
     },
     "execution_count": 8,
     "metadata": {},
     "output_type": "execute_result"
    }
   ],
   "source": [
    "def function (string, substring):\n",
    "    if substring in string:\n",
    "        return True\n",
    "    return False\n",
    "    \n",
    "function('gurkirpal', 'pal')"
   ]
  },
  {
   "cell_type": "code",
   "execution_count": 9,
   "metadata": {},
   "outputs": [],
   "source": [
    "#Write a function that accepts a number array and prints two lists, one with even numbers and other with odd numbers"
   ]
  },
  {
   "cell_type": "code",
   "execution_count": 10,
   "metadata": {},
   "outputs": [
    {
     "name": "stdout",
     "output_type": "stream",
     "text": [
      "[1, 13, 13, 15, 17]\n",
      "[12, 12, 14, 16]\n"
     ]
    }
   ],
   "source": [
    "#my_list = (11,12,13,5)\n",
    "def number_array(my_list):\n",
    "    even_list = []\n",
    "    odd_list = []\n",
    "    for num in my_list:\n",
    "        if num % 2 == 0:\n",
    "            even_list.append(num)\n",
    "        else:\n",
    "            odd_list.append(num)\n",
    "    print(odd_list)\n",
    "    print(even_list)\n",
    "    \n",
    "number_array([12,1,13,12,13,14,15,16,17])\n",
    "        "
   ]
  },
  {
   "cell_type": "code",
   "execution_count": 11,
   "metadata": {},
   "outputs": [],
   "source": [
    "#Write a function to find if a given number is prime or not"
   ]
  },
  {
   "cell_type": "code",
   "execution_count": 14,
   "metadata": {},
   "outputs": [],
   "source": [
    "def is_prime(num):\n",
    "    for n in range(2,num):\n",
    "        if num % n == 0:\n",
    "            print(num,'is not prime')\n",
    "            break\n",
    "    else: # If never mod zero, then prime\n",
    "        print(num,'is prime!')"
   ]
  },
  {
   "cell_type": "code",
   "execution_count": 15,
   "metadata": {},
   "outputs": [
    {
     "name": "stdout",
     "output_type": "stream",
     "text": [
      "47 is prime!\n"
     ]
    }
   ],
   "source": [
    "is_prime(47)"
   ]
  },
  {
   "cell_type": "code",
   "execution_count": 16,
   "metadata": {},
   "outputs": [
    {
     "name": "stdout",
     "output_type": "stream",
     "text": [
      "99 is not prime\n"
     ]
    }
   ],
   "source": [
    "is_prime(99)"
   ]
  },
  {
   "cell_type": "code",
   "execution_count": 18,
   "metadata": {},
   "outputs": [],
   "source": [
    "def prime_numbers (num):\n",
    "    #prime_list = []\n",
    "    if num < 2:\n",
    "        print('it is not prime number')\n",
    "        return\n",
    "    for i in range (2,num):\n",
    "        if num % i == 0:\n",
    "            print(f'{num}: it is not a prime number')\n",
    "            return\n",
    "    else:\n",
    "        print('it is a prime number')"
   ]
  },
  {
   "cell_type": "code",
   "execution_count": 19,
   "metadata": {},
   "outputs": [
    {
     "name": "stdout",
     "output_type": "stream",
     "text": [
      "it is a prime number\n"
     ]
    }
   ],
   "source": [
    "prime_numbers(31)"
   ]
  },
  {
   "cell_type": "code",
   "execution_count": 21,
   "metadata": {},
   "outputs": [],
   "source": [
    "#write a function to find if a given string is palindrome or not.\n",
    "    "
   ]
  },
  {
   "cell_type": "code",
   "execution_count": 22,
   "metadata": {},
   "outputs": [
    {
     "name": "stdout",
     "output_type": "stream",
     "text": [
      "It is not palindrome\n"
     ]
    }
   ],
   "source": [
    "def palindrome_func(string):\n",
    "    if string == string[::-1]:\n",
    "        print('It is palindrome')\n",
    "    else:\n",
    "        print('It is not palindrome')\n",
    "    \n",
    "palindrome_func('mquest')"
   ]
  },
  {
   "cell_type": "code",
   "execution_count": 23,
   "metadata": {},
   "outputs": [],
   "source": [
    "#write a function to find the largest number in a given tuple of numbers    "
   ]
  },
  {
   "cell_type": "code",
   "execution_count": 25,
   "metadata": {},
   "outputs": [
    {
     "data": {
      "text/plain": [
       "84"
      ]
     },
     "execution_count": 25,
     "metadata": {},
     "output_type": "execute_result"
    }
   ],
   "source": [
    "def tup_fun(num):\n",
    "    largest = num[0]\n",
    "    for i in num:\n",
    "        if i > largest:\n",
    "            largest = i\n",
    "    return largest\n",
    "\n",
    "\n",
    "tup_fun((3,45,6,7,84,-67,58))    "
   ]
  },
  {
   "cell_type": "code",
   "execution_count": 26,
   "metadata": {},
   "outputs": [
    {
     "data": {
      "text/plain": [
       "-67"
      ]
     },
     "execution_count": 26,
     "metadata": {},
     "output_type": "execute_result"
    }
   ],
   "source": [
    "def tup_func(tup):\n",
    "    smallest = tup[0]\n",
    "    for num in tup:\n",
    "        if num < smallest:\n",
    "            smallest = num\n",
    "    return smallest\n",
    "\n",
    "tup_func((3,45,6,7,84,-67,58)) "
   ]
  }
 ],
 "metadata": {
  "kernelspec": {
   "display_name": "Python 3",
   "language": "python",
   "name": "python3"
  },
  "language_info": {
   "codemirror_mode": {
    "name": "ipython",
    "version": 3
   },
   "file_extension": ".py",
   "mimetype": "text/x-python",
   "name": "python",
   "nbconvert_exporter": "python",
   "pygments_lexer": "ipython3",
   "version": "3.7.4"
  }
 },
 "nbformat": 4,
 "nbformat_minor": 2
}
